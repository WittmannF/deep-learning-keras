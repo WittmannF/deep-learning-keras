{
  "nbformat": 4,
  "nbformat_minor": 0,
  "metadata": {
    "accelerator": "GPU",
    "anaconda-cloud": {},
    "colab": {
      "name": "toy-problem-blank.ipynb",
      "provenance": [],
      "include_colab_link": true
    },
    "kernelspec": {
      "display_name": "Python 3",
      "language": "python",
      "name": "python3"
    },
    "language_info": {
      "codemirror_mode": {
        "name": "ipython",
        "version": 3
      },
      "file_extension": ".py",
      "mimetype": "text/x-python",
      "name": "python",
      "nbconvert_exporter": "python",
      "pygments_lexer": "ipython3",
      "version": "3.7.1"
    }
  },
  "cells": [
    {
      "cell_type": "markdown",
      "metadata": {
        "id": "view-in-github",
        "colab_type": "text"
      },
      "source": [
        "<a href=\"https://colab.research.google.com/github/WittmannF/deep-learning-keras/blob/master/modulo-2/primeira-rede-neural-resolvido.ipynb\" target=\"_parent\"><img src=\"https://colab.research.google.com/assets/colab-badge.svg\" alt=\"Open In Colab\"/></a>"
      ]
    },
    {
      "cell_type": "markdown",
      "metadata": {
        "colab_type": "text",
        "id": "j7a4139FPMIc"
      },
      "source": [
        "# Sua Primeira Rede Neural"
      ]
    },
    {
      "cell_type": "markdown",
      "metadata": {
        "colab_type": "text",
        "id": "PWEfDAEePLJW"
      },
      "source": [
        "Vamos usar o mesmo exemplo que temos visto no vídeo anterior com o preço de casa com base em sua área:\n",
        "![input-example](https://user-images.githubusercontent.com/5733246/52136634-a2e8e080-262f-11e9-8f7a-61d79831d83d.png)\n",
        "Normalmente, quando se trabalha com problemas de aprendizagem de máquina ou profunda aprendizagem, você terá que seguir esses cinco passos:\n",
        "\n",
        "1. Explorando os dados\n",
        "   - Importação de dados\n",
        "   - Compreender os dados\n",
        "\n",
        "2. Preparar os dados\n",
        "   - Scaling\n",
        "   - Transformando\n",
        "   - One-Hot Encoding\n",
        "   - Train teste de divisão\n",
        "\n",
        "3. Desenvolver um modelo básico\n",
        "4. Verificação das Previsões\n",
        "5. Melhoria dos Resultados\n",
        "\n",
        "## 1. Importar os Dados"
      ]
    },
    {
      "cell_type": "markdown",
      "metadata": {
        "colab_type": "text",
        "id": "uOIDW9boibxW"
      },
      "source": [
        "Vamos criar um conjunto de dados brinquedo na mão, com apenas 20 áreas e 20 preços:"
      ]
    },
    {
      "cell_type": "code",
      "metadata": {
        "colab_type": "code",
        "id": "CDaYfd4yD2Lj",
        "colab": {}
      },
      "source": [
        "import numpy as np\n",
        "\n",
        "X = np.array([40, 45, 50, 55, 60, 70, 80, 86, 90, 100, 110, 111, 120, 132, 140, 149, 160, 171, 180, 191])\n",
        "y = np.array([51000, 62000, 70100, 75245, 82200, 91200, 101000, 110200, 120000, 130000, 150000, 170000, 180000, 190000, 200000, 205000, 210000, 220000, 235000, 250000])"
      ],
      "execution_count": 0,
      "outputs": []
    },
    {
      "cell_type": "code",
      "metadata": {
        "id": "WWv2C8LT9PTn",
        "colab_type": "code",
        "colab": {}
      },
      "source": [
        "X = X.reshape(-1, 1)\n",
        "y = y.reshape(-1, 1)"
      ],
      "execution_count": 0,
      "outputs": []
    },
    {
      "cell_type": "code",
      "metadata": {
        "id": "SKlk9MDL9K1C",
        "colab_type": "code",
        "colab": {
          "base_uri": "https://localhost:8080/",
          "height": 296
        },
        "outputId": "e449a1c2-1975-436c-b2ce-dde8758f9f2f"
      },
      "source": [
        "import matplotlib.pyplot as plt\n",
        "plt.xlabel(\"X - Area (m²)\")\n",
        "plt.ylabel(\"y - Price (USD)\")\n",
        "plt.scatter(X, y)"
      ],
      "execution_count": 14,
      "outputs": [
        {
          "output_type": "execute_result",
          "data": {
            "text/plain": [
              "<matplotlib.collections.PathCollection at 0x7f72d5113470>"
            ]
          },
          "metadata": {
            "tags": []
          },
          "execution_count": 14
        },
        {
          "output_type": "display_data",
          "data": {
            "image/png": "[encoded data removed]",
            "text/plain": [
              "<Figure size 432x288 with 1 Axes>"
            ]
          },
          "metadata": {
            "tags": []
          }
        }
      ]
    },
    {
      "cell_type": "code",
      "metadata": {
        "id": "iOKDk28h99F7",
        "colab_type": "code",
        "colab": {}
      },
      "source": [
        ""
      ],
      "execution_count": 0,
      "outputs": []
    },
    {
      "cell_type": "markdown",
      "metadata": {
        "colab_type": "text",
        "id": "IpettqxCD2L8"
      },
      "source": [
        "## 2. Preparando os Dados\n",
        "### Escalando Atributos Numéricos\n",
        "Otimizadores funcionam melhor quando os dados de entrada estão dentro de uma mesma escala, por exemplo de -1 a 1 ou entre 0 a 1. Isto ajuda a superfície de erro para aproximar mais rápido para o mínimo global. Para melhores resultados, o método chamando [Standardization (Padronização ou Uniformização)](https://scikit-learn.org/stable/modules/generated/sklearn.preprocessing.StandardScaler.html) é altamente sugerido pois converte a média para zero e o desvio padrão para 1. \n",
        "- Para familiarização com Desvio Padrão e Média, recomendo a seguinte leitura: https://medium.com/data-science-br/reproduzindo-uma-distribui%C3%A7%C3%A3o-normal-jogando-cara-ou-coroa-e6d77b490b91"
      ]
    },
    {
      "cell_type": "code",
      "metadata": {
        "colab_type": "code",
        "id": "aSO0XZn8ibxu",
        "colab": {}
      },
      "source": [
        "X = (X - X.mean())/X.std()\n",
        "y = (y - y.mean())/y.std()"
      ],
      "execution_count": 0,
      "outputs": []
    },
    {
      "cell_type": "code",
      "metadata": {
        "id": "aPXI22bREkbO",
        "colab_type": "code",
        "colab": {
          "base_uri": "https://localhost:8080/",
          "height": 279
        },
        "outputId": "9073ccd4-e1fb-4afd-b52f-de7fb5920d06"
      },
      "source": [
        "plt.scatter(X, y)\n",
        "plt.xlabel(\"X - Normalized Area\")\n",
        "plt.ylabel(\"y - Normalized Price\")\n",
        "plt.show()"
      ],
      "execution_count": 24,
      "outputs": [
        {
          "output_type": "display_data",
          "data": {
            "image/png": "[encoded data removed]",
            "text/plain": [
              "<Figure size 432x288 with 1 Axes>"
            ]
          },
          "metadata": {
            "tags": []
          }
        }
      ]
    },
    {
      "cell_type": "code",
      "metadata": {
        "id": "zYddw0-2EkS0",
        "colab_type": "code",
        "colab": {}
      },
      "source": [
        ""
      ],
      "execution_count": 0,
      "outputs": []
    },
    {
      "cell_type": "markdown",
      "metadata": {
        "colab_type": "text",
        "id": "_0CxDqZbD2MQ"
      },
      "source": [
        "### Divisão dos Dados em Conjuntos de Treinamento e Teste\n",
        "Além de escalar os dados, é muito importante para dividir o conjunto de dados para treinamento e teste. O conjunto de treinamento vai ser usado para ajustar o modelo (ou fronteira de decisão) e o conjunto de teste vai ser usado para avaliar o seu desempenho em dados não vistos. Se não utilizar um conjunto de teste, há um risco de a rede neural \"memorizar\" os dados de treinamento, fenômeno conhecido por **overfitting**, ilustrado a seguir:\n",
        "![underfit](https://i.ytimg.com/vi/dBLZg-RqoLg/maxresdefault.jpg)\n",
        "\n",
        "\n",
        "Podemos usar a biblioteca de machine learning scikit-learn para a divisão treino/teste:"
      ]
    },
    {
      "cell_type": "code",
      "metadata": {
        "colab_type": "code",
        "id": "UmBmrkd4D2MR",
        "colab": {}
      },
      "source": [
        "from sklearn.model_selection import train_test_split"
      ],
      "execution_count": 0,
      "outputs": []
    },
    {
      "cell_type": "code",
      "metadata": {
        "id": "V1xCGMr6GKvQ",
        "colab_type": "code",
        "colab": {}
      },
      "source": [
        "X_train, X_test, y_train, y_test = train_test_split(X, y, test_size=0.3, random_state=25)"
      ],
      "execution_count": 0,
      "outputs": []
    },
    {
      "cell_type": "code",
      "metadata": {
        "id": "vCV9Lzb5GK7g",
        "colab_type": "code",
        "colab": {
          "base_uri": "https://localhost:8080/",
          "height": 279
        },
        "outputId": "afb70207-3f03-4ce4-e042-147289674975"
      },
      "source": [
        "# Visualize again\n",
        "plt.scatter(X_train, y_train, label=\"Training\")\n",
        "plt.scatter(X_test, y_test, label=\"Testing\")\n",
        "plt.legend(loc=0)\n",
        "plt.xlabel(\"Scaled Area\")\n",
        "plt.ylabel(\"Scaled Price\")\n",
        "plt.show()"
      ],
      "execution_count": 30,
      "outputs": [
        {
          "output_type": "display_data",
          "data": {
            "image/png": "[encoded data removed]",
            "text/plain": [
              "<Figure size 432x288 with 1 Axes>"
            ]
          },
          "metadata": {
            "tags": []
          }
        }
      ]
    },
    {
      "cell_type": "code",
      "metadata": {
        "id": "oywil365GLZ2",
        "colab_type": "code",
        "colab": {}
      },
      "source": [
        ""
      ],
      "execution_count": 0,
      "outputs": []
    },
    {
      "cell_type": "markdown",
      "metadata": {
        "colab_type": "text",
        "id": "KPiwW_lsQXV8"
      },
      "source": [
        "## 3. Desenvolver um modelo base\n",
        "Três componentes que você precisa ter ciência:\n",
        "- Arquitetura: Número de camadas ocultas e neuronios em cada camada\n",
        "   - https://keras.io/layers/core/\n",
        "   - https://keras.io/getting-started/sequential-model-guide/\n",
        "- Otimizadores e Função de Custo\n",
        "   - https://keras.io/optimizers/\n",
        "   - https://keras.io/losses/\n",
        "   - https://keras.io/models/sequential/#compile\n",
        "   \n",
        "- Treinar o modelo:\n",
        "   - https://keras.io/models/sequential/#fit"
      ]
    },
    {
      "cell_type": "code",
      "metadata": {
        "colab_type": "code",
        "id": "J-suaOvTD2Mj",
        "colab": {
          "base_uri": "https://localhost:8080/",
          "height": 104
        },
        "outputId": "6da6bb74-d006-4ee7-ceea-8504c454eb84"
      },
      "source": [
        "# 0. Import keras dependencies \n",
        "# TODO: Import the sequential model - https://keras.io/getting-started/sequential-model-guide/\n",
        "from keras.models import Sequential\n",
        "\n",
        "# TODO: Import the dense layer - https://keras.io/layers/core/\n",
        "from keras.layers import Dense\n",
        "\n",
        "\n",
        "# 1. Define your base model here\n",
        "# TODO: Assign Sequential to model and create a list with just one Dense layer with one unit and one input\n",
        "model = Sequential([\n",
        "                    Dense(1, input_shape=(1,))\n",
        "])\n"
      ],
      "execution_count": 36,
      "outputs": [
        {
          "output_type": "stream",
          "text": [
            "WARNING:tensorflow:From /usr/local/lib/python3.6/dist-packages/keras/backend/tensorflow_backend.py:541: The name tf.placeholder is deprecated. Please use tf.compat.v1.placeholder instead.\n",
            "\n",
            "WARNING:tensorflow:From /usr/local/lib/python3.6/dist-packages/keras/backend/tensorflow_backend.py:4432: The name tf.random_uniform is deprecated. Please use tf.random.uniform instead.\n",
            "\n"
          ],
          "name": "stdout"
        }
      ]
    },
    {
      "cell_type": "code",
      "metadata": {
        "id": "waSTnPVqIWAo",
        "colab_type": "code",
        "colab": {
          "base_uri": "https://localhost:8080/",
          "height": 185
        },
        "outputId": "8ca14917-ab95-4234-b410-6812b5b01ac0"
      },
      "source": [
        "model.summary()"
      ],
      "execution_count": 37,
      "outputs": [
        {
          "output_type": "stream",
          "text": [
            "Model: \"sequential_2\"\n",
            "_________________________________________________________________\n",
            "Layer (type)                 Output Shape              Param #   \n",
            "=================================================================\n",
            "dense_1 (Dense)              (None, 1)                 2         \n",
            "=================================================================\n",
            "Total params: 2\n",
            "Trainable params: 2\n",
            "Non-trainable params: 0\n",
            "_________________________________________________________________\n"
          ],
          "name": "stdout"
        }
      ]
    },
    {
      "cell_type": "code",
      "metadata": {
        "id": "wpl-hBd2IC1Z",
        "colab_type": "code",
        "colab": {
          "base_uri": "https://localhost:8080/",
          "height": 70
        },
        "outputId": "4b1fb287-343b-4043-9daf-5f2dd7dd8230"
      },
      "source": [
        "# TODO: Import the SGD optimizer - https://keras.io/optimizers/\n",
        "from keras.optimizers import SGD\n",
        "\n",
        "# 2. Set your optimizer and loss function here\n",
        "# TODO: Initialize the Stochastic Gradient Descent optimizer\n",
        "\n",
        "# TODO: Use the model.compile method with the inputs 'optimizer' and 'loss'\n",
        "model.compile(optimizer=SGD(), loss='mean_squared_error')\n",
        "\n"
      ],
      "execution_count": 39,
      "outputs": [
        {
          "output_type": "stream",
          "text": [
            "WARNING:tensorflow:From /usr/local/lib/python3.6/dist-packages/keras/optimizers.py:793: The name tf.train.Optimizer is deprecated. Please use tf.compat.v1.train.Optimizer instead.\n",
            "\n"
          ],
          "name": "stdout"
        }
      ]
    },
    {
      "cell_type": "code",
      "metadata": {
        "id": "5qChvG53IDB7",
        "colab_type": "code",
        "colab": {
          "base_uri": "https://localhost:8080/",
          "height": 356
        },
        "outputId": "b685f737-1069-4361-fa63-8e9e0a7d8afa"
      },
      "source": [
        "# 3. Train your model\n",
        "# TODO: Use the model.fit method with the the training data as input\n",
        "model.fit(X_train, y_train)"
      ],
      "execution_count": 40,
      "outputs": [
        {
          "output_type": "stream",
          "text": [
            "WARNING:tensorflow:From /usr/local/lib/python3.6/dist-packages/keras/backend/tensorflow_backend.py:1033: The name tf.assign_add is deprecated. Please use tf.compat.v1.assign_add instead.\n",
            "\n",
            "WARNING:tensorflow:From /usr/local/lib/python3.6/dist-packages/keras/backend/tensorflow_backend.py:1020: The name tf.assign is deprecated. Please use tf.compat.v1.assign instead.\n",
            "\n",
            "WARNING:tensorflow:From /usr/local/lib/python3.6/dist-packages/keras/backend/tensorflow_backend.py:3005: The name tf.Session is deprecated. Please use tf.compat.v1.Session instead.\n",
            "\n",
            "Epoch 1/1\n",
            "WARNING:tensorflow:From /usr/local/lib/python3.6/dist-packages/keras/backend/tensorflow_backend.py:190: The name tf.get_default_session is deprecated. Please use tf.compat.v1.get_default_session instead.\n",
            "\n",
            "WARNING:tensorflow:From /usr/local/lib/python3.6/dist-packages/keras/backend/tensorflow_backend.py:197: The name tf.ConfigProto is deprecated. Please use tf.compat.v1.ConfigProto instead.\n",
            "\n",
            "WARNING:tensorflow:From /usr/local/lib/python3.6/dist-packages/keras/backend/tensorflow_backend.py:207: The name tf.global_variables is deprecated. Please use tf.compat.v1.global_variables instead.\n",
            "\n",
            "WARNING:tensorflow:From /usr/local/lib/python3.6/dist-packages/keras/backend/tensorflow_backend.py:216: The name tf.is_variable_initialized is deprecated. Please use tf.compat.v1.is_variable_initialized instead.\n",
            "\n",
            "WARNING:tensorflow:From /usr/local/lib/python3.6/dist-packages/keras/backend/tensorflow_backend.py:223: The name tf.variables_initializer is deprecated. Please use tf.compat.v1.variables_initializer instead.\n",
            "\n",
            "14/14 [==============================] - 9s 660ms/step - loss: 0.4692\n"
          ],
          "name": "stdout"
        },
        {
          "output_type": "execute_result",
          "data": {
            "text/plain": [
              "<keras.callbacks.History at 0x7f7291cc2048>"
            ]
          },
          "metadata": {
            "tags": []
          },
          "execution_count": 40
        }
      ]
    },
    {
      "cell_type": "markdown",
      "metadata": {
        "colab_type": "text",
        "id": "IBamRQyDD2Mu"
      },
      "source": [
        "## 4. Verificar Previsões\n",
        "Agora vamos ver o quão bem a nossa previsão de base está realizando:"
      ]
    },
    {
      "cell_type": "code",
      "metadata": {
        "id": "ERjMVutKLQjy",
        "colab_type": "code",
        "colab": {
          "base_uri": "https://localhost:8080/",
          "height": 118
        },
        "outputId": "0248eab3-5859-455b-d81d-d6068e298958"
      },
      "source": [
        "model.predict(X_test)"
      ],
      "execution_count": 42,
      "outputs": [
        {
          "output_type": "execute_result",
          "data": {
            "text/plain": [
              "array([[ 0.19461782],\n",
              "       [ 0.03045101],\n",
              "       [-0.44641453],\n",
              "       [ 0.02263354],\n",
              "       [-0.21189049],\n",
              "       [ 0.5698563 ]], dtype=float32)"
            ]
          },
          "metadata": {
            "tags": []
          },
          "execution_count": 42
        }
      ]
    },
    {
      "cell_type": "code",
      "metadata": {
        "colab_type": "code",
        "id": "Yv2FyIkjD2Mv",
        "colab": {
          "base_uri": "https://localhost:8080/",
          "height": 265
        },
        "outputId": "29286a83-46f2-45fe-c12c-2bb115f7bb94"
      },
      "source": [
        "def check_predictions(model, X, y):\n",
        "    y_pred = model.predict(X)\n",
        "    plt.scatter(X, y, c='b', alpha=0.5, label=\"Data\")\n",
        "    plt.plot(X, y_pred, c='r', label=\"Model\")\n",
        "    plt.legend(loc=0)\n",
        "    plt.show()\n",
        "    \n",
        "check_predictions(model, X_train, y_train)"
      ],
      "execution_count": 43,
      "outputs": [
        {
          "output_type": "display_data",
          "data": {
            "image/png": "[encoded data removed]",
            "text/plain": [
              "<Figure size 432x288 with 1 Axes>"
            ]
          },
          "metadata": {
            "tags": []
          }
        }
      ]
    },
    {
      "cell_type": "code",
      "metadata": {
        "id": "UBijLJWoLZgq",
        "colab_type": "code",
        "colab": {
          "base_uri": "https://localhost:8080/",
          "height": 265
        },
        "outputId": "84baf8ca-c707-4df7-b991-6b4a772cfb48"
      },
      "source": [
        "check_predictions(model, X_test, y_test)"
      ],
      "execution_count": 44,
      "outputs": [
        {
          "output_type": "display_data",
          "data": {
            "image/png": "[encoded data removed]",
            "text/plain": [
              "<Figure size 432x288 with 1 Axes>"
            ]
          },
          "metadata": {
            "tags": []
          }
        }
      ]
    },
    {
      "cell_type": "code",
      "metadata": {
        "id": "wrMqBX-FLwKX",
        "colab_type": "code",
        "colab": {
          "base_uri": "https://localhost:8080/",
          "height": 50
        },
        "outputId": "e2547da4-27b9-4f73-9ceb-fa1c027c31bc"
      },
      "source": [
        "model.evaluate(X_train, y_train)"
      ],
      "execution_count": 46,
      "outputs": [
        {
          "output_type": "stream",
          "text": [
            "\r14/14 [==============================] - 0s 255us/step\n"
          ],
          "name": "stdout"
        },
        {
          "output_type": "execute_result",
          "data": {
            "text/plain": [
              "0.4494476914405823"
            ]
          },
          "metadata": {
            "tags": []
          },
          "execution_count": 46
        }
      ]
    },
    {
      "cell_type": "code",
      "metadata": {
        "id": "f11wmr0VLq10",
        "colab_type": "code",
        "colab": {
          "base_uri": "https://localhost:8080/",
          "height": 50
        },
        "outputId": "2d4c6e17-86f1-46e8-8eca-f9b5c728abf8"
      },
      "source": [
        "model.evaluate(X_test, y_test)"
      ],
      "execution_count": 45,
      "outputs": [
        {
          "output_type": "stream",
          "text": [
            "\r6/6 [==============================] - 0s 4ms/step\n"
          ],
          "name": "stdout"
        },
        {
          "output_type": "execute_result",
          "data": {
            "text/plain": [
              "0.3401762545108795"
            ]
          },
          "metadata": {
            "tags": []
          },
          "execution_count": 45
        }
      ]
    },
    {
      "cell_type": "markdown",
      "metadata": {
        "colab_type": "text",
        "id": "ni6ssLlzD2M5"
      },
      "source": [
        "## 5. Melhoria de Resultados\n",
        "Podemos ver que o modelo não é apropriado. Vamos agora melhorar esses resultados! Aqui estão algumas coisas básicas que vamos tentar:\n",
        "1. Aumentar o número de épocas\n",
        "- Épocas é o número de vezes que o algoritmo vê todo o conjunto de dados. \n",
        "2. Alterar o otimizador\n",
        "- Descida gradiente estocástico é muito simple. Há otimizadores mais robustos como Adam\n",
        "3. Alterar a taxa de aprendizagem (learning rate)\n",
        "4. Adição de mais camadas\n",
        "\n",
        "### 5.1 Aumentar o número de épocas"
      ]
    },
    {
      "cell_type": "code",
      "metadata": {
        "colab_type": "code",
        "id": "9o2dluRgD2M9",
        "colab": {
          "base_uri": "https://localhost:8080/",
          "height": 218
        },
        "outputId": "0c0522d0-fef9-4efb-88ac-198b94f10594"
      },
      "source": [
        "# 0. Import keras dependencies here\n",
        "from keras.models import Sequential\n",
        "from keras.layers import Dense\n",
        "from keras.optimizers import SGD\n",
        "\n",
        "# 1. Define your base model here\n",
        "model = Sequential([\n",
        "        Dense(units=1, input_shape=(1,))\n",
        "    ])\n",
        "\n",
        "# 2. Set your optimizer and loss function here\n",
        "opt = SGD()\n",
        "model.compile(optimizer=opt,\n",
        "             loss='mean_squared_error')\n",
        "\n",
        "\n",
        "# 3. Train your model\n",
        "model.fit(X_train, y_train, validation_data=(X_test, y_test), epochs=5)"
      ],
      "execution_count": 55,
      "outputs": [
        {
          "output_type": "stream",
          "text": [
            "Train on 14 samples, validate on 6 samples\n",
            "Epoch 1/5\n",
            "14/14 [==============================] - 0s 10ms/step - loss: 3.2716 - val_loss: 2.2645\n",
            "Epoch 2/5\n",
            "14/14 [==============================] - 0s 325us/step - loss: 3.1306 - val_loss: 2.1684\n",
            "Epoch 3/5\n",
            "14/14 [==============================] - 0s 308us/step - loss: 2.9956 - val_loss: 2.0764\n",
            "Epoch 4/5\n",
            "14/14 [==============================] - 0s 260us/step - loss: 2.8666 - val_loss: 1.9883\n",
            "Epoch 5/5\n",
            "14/14 [==============================] - 0s 302us/step - loss: 2.7431 - val_loss: 1.9041\n"
          ],
          "name": "stdout"
        },
        {
          "output_type": "execute_result",
          "data": {
            "text/plain": [
              "<keras.callbacks.History at 0x7f728404da90>"
            ]
          },
          "metadata": {
            "tags": []
          },
          "execution_count": 55
        }
      ]
    },
    {
      "cell_type": "code",
      "metadata": {
        "colab_type": "code",
        "id": "kSi1UI9xD2NI",
        "colab": {
          "base_uri": "https://localhost:8080/",
          "height": 265
        },
        "outputId": "b218c02c-00ac-45a3-b348-cd818b7c9509"
      },
      "source": [
        "check_predictions(model, X_train, y_train)"
      ],
      "execution_count": 56,
      "outputs": [
        {
          "output_type": "display_data",
          "data": {
            "image/png": "[encoded data removed]",
            "text/plain": [
              "<Figure size 432x288 with 1 Axes>"
            ]
          },
          "metadata": {
            "tags": []
          }
        }
      ]
    },
    {
      "cell_type": "code",
      "metadata": {
        "id": "iQkHEQ0vMcxZ",
        "colab_type": "code",
        "colab": {}
      },
      "source": [
        ""
      ],
      "execution_count": 0,
      "outputs": []
    },
    {
      "cell_type": "code",
      "metadata": {
        "id": "wyfoANDiMc7D",
        "colab_type": "code",
        "colab": {}
      },
      "source": [
        ""
      ],
      "execution_count": 0,
      "outputs": []
    },
    {
      "cell_type": "markdown",
      "metadata": {
        "colab_type": "text",
        "id": "RmP1J08_D2Nz"
      },
      "source": [
        "### 5.2 Trocar de Otimizadores\n",
        "Ótimo repositório comparando diferentes otimizadores de TensorFlow: https://github.com/Jaewan-Yun/optimizer-visualization\n",
        "![](https://github.com/Jaewan-Yun/optimizer-visualization/raw/master/figures/movie11.gif)\n",
        "![](https://github.com/Jaewan-Yun/optimizer-visualization/raw/master/figures/movie9.gif)\n",
        "\n",
        "Vamos agora tentar outros otimizadores que estão disponíveis a partir da documentação: https://keras.io/optimizers/"
      ]
    },
    {
      "cell_type": "code",
      "metadata": {
        "colab_type": "code",
        "id": "1Jbl-m28D2N0",
        "colab": {
          "base_uri": "https://localhost:8080/",
          "height": 202
        },
        "outputId": "203ee41f-8c88-424e-a341-8aca5d17b415"
      },
      "source": [
        "# 0. Import keras dependencies here\n",
        "from keras.models import Sequential\n",
        "from keras.layers import Dense\n",
        "from keras.optimizers import Adam\n",
        "\n",
        "# 1. Define your base model here\n",
        "model = Sequential([\n",
        "        Dense(units=1, input_shape=(1,))\n",
        "    ])\n",
        "\n",
        "# 2. Set your optimizer loss function here\n",
        "model.compile(optimizer=Adam(),\n",
        "             loss='mean_squared_error')\n",
        "\n",
        "\n",
        "# 3. Train your model\n",
        "model.fit(X_train, y_train, epochs=5)"
      ],
      "execution_count": 57,
      "outputs": [
        {
          "output_type": "stream",
          "text": [
            "Epoch 1/5\n",
            "14/14 [==============================] - 0s 14ms/step - loss: 1.4622\n",
            "Epoch 2/5\n",
            "14/14 [==============================] - 0s 292us/step - loss: 1.4596\n",
            "Epoch 3/5\n",
            "14/14 [==============================] - 0s 278us/step - loss: 1.4570\n",
            "Epoch 4/5\n",
            "14/14 [==============================] - 0s 278us/step - loss: 1.4543\n",
            "Epoch 5/5\n",
            "14/14 [==============================] - 0s 310us/step - loss: 1.4517\n"
          ],
          "name": "stdout"
        },
        {
          "output_type": "execute_result",
          "data": {
            "text/plain": [
              "<keras.callbacks.History at 0x7f728009e2b0>"
            ]
          },
          "metadata": {
            "tags": []
          },
          "execution_count": 57
        }
      ]
    },
    {
      "cell_type": "code",
      "metadata": {
        "colab_type": "code",
        "id": "N2j9oZafD2N4",
        "colab": {
          "base_uri": "https://localhost:8080/",
          "height": 265
        },
        "outputId": "b7e843ad-3dde-4e9e-a16b-b86722748b19"
      },
      "source": [
        "check_predictions(model, X_train, y_train)"
      ],
      "execution_count": 58,
      "outputs": [
        {
          "output_type": "display_data",
          "data": {
            "image/png": "[encoded data removed]",
            "text/plain": [
              "<Figure size 432x288 with 1 Axes>"
            ]
          },
          "metadata": {
            "tags": []
          }
        }
      ]
    },
    {
      "cell_type": "markdown",
      "metadata": {
        "colab_type": "text",
        "id": "iUFb9u6yD2OA"
      },
      "source": [
        "### 5.3 Alterando o Learning Rate (Taxa de Aprendizagem)\n",
        "Finalmente vamos aumentar a taxa de aprendizagem. Como um lembrete, valores pequenos requer mais iterações, enquanto grandes valores tornar o modelo a divergir."
      ]
    },
    {
      "cell_type": "code",
      "metadata": {
        "id": "WFXc3mjeN5GJ",
        "colab_type": "code",
        "colab": {}
      },
      "source": [
        "Adam"
      ],
      "execution_count": 0,
      "outputs": []
    },
    {
      "cell_type": "code",
      "metadata": {
        "colab_type": "code",
        "id": "E1NTbeGYD2OC",
        "colab": {
          "base_uri": "https://localhost:8080/",
          "height": 722
        },
        "outputId": "7d64c9b1-e855-43cf-c16c-fe9f5997edc5"
      },
      "source": [
        "# 0. Import keras dependencies here\n",
        "from keras.models import Sequential\n",
        "from keras.layers import Dense\n",
        "from keras.optimizers import Adam\n",
        "\n",
        "# 1. Define your base model here\n",
        "model = Sequential([\n",
        "        Dense(units=1, input_shape=(1,))\n",
        "    ])\n",
        "\n",
        "# 2. Set your optimizer and loss function here\n",
        "# Default of adam is 0.001. Check large and small values, use a value slighly lower than a diverging lr\n",
        "model.compile(optimizer=Adam(lr=0.1),\n",
        "             loss='mean_squared_error')\n",
        "\n",
        "\n",
        "# 3. Train your model\n",
        "model.fit(X_train, y_train, validation_data=(X_test, y_test), epochs=20)"
      ],
      "execution_count": 70,
      "outputs": [
        {
          "output_type": "stream",
          "text": [
            "Train on 14 samples, validate on 6 samples\n",
            "Epoch 1/20\n",
            "14/14 [==============================] - 0s 27ms/step - loss: 0.2399 - val_loss: 0.1509\n",
            "Epoch 2/20\n",
            "14/14 [==============================] - 0s 422us/step - loss: 0.1553 - val_loss: 0.0916\n",
            "Epoch 3/20\n",
            "14/14 [==============================] - 0s 295us/step - loss: 0.0863 - val_loss: 0.0494\n",
            "Epoch 4/20\n",
            "14/14 [==============================] - 0s 335us/step - loss: 0.0420 - val_loss: 0.0299\n",
            "Epoch 5/20\n",
            "14/14 [==============================] - 0s 385us/step - loss: 0.0211 - val_loss: 0.0264\n",
            "Epoch 6/20\n",
            "14/14 [==============================] - 0s 381us/step - loss: 0.0158 - val_loss: 0.0328\n",
            "Epoch 7/20\n",
            "14/14 [==============================] - 0s 378us/step - loss: 0.0215 - val_loss: 0.0445\n",
            "Epoch 8/20\n",
            "14/14 [==============================] - 0s 330us/step - loss: 0.0341 - val_loss: 0.0557\n",
            "Epoch 9/20\n",
            "14/14 [==============================] - 0s 373us/step - loss: 0.0472 - val_loss: 0.0615\n",
            "Epoch 10/20\n",
            "14/14 [==============================] - 0s 336us/step - loss: 0.0550 - val_loss: 0.0608\n",
            "Epoch 11/20\n",
            "14/14 [==============================] - 0s 371us/step - loss: 0.0558 - val_loss: 0.0558\n",
            "Epoch 12/20\n",
            "14/14 [==============================] - 0s 359us/step - loss: 0.0514 - val_loss: 0.0489\n",
            "Epoch 13/20\n",
            "14/14 [==============================] - 0s 353us/step - loss: 0.0440 - val_loss: 0.0417\n",
            "Epoch 14/20\n",
            "14/14 [==============================] - 0s 384us/step - loss: 0.0352 - val_loss: 0.0356\n",
            "Epoch 15/20\n",
            "14/14 [==============================] - 0s 327us/step - loss: 0.0264 - val_loss: 0.0316\n",
            "Epoch 16/20\n",
            "14/14 [==============================] - 0s 357us/step - loss: 0.0192 - val_loss: 0.0307\n",
            "Epoch 17/20\n",
            "14/14 [==============================] - 0s 314us/step - loss: 0.0150 - val_loss: 0.0322\n",
            "Epoch 18/20\n",
            "14/14 [==============================] - 0s 210us/step - loss: 0.0142 - val_loss: 0.0347\n",
            "Epoch 19/20\n",
            "14/14 [==============================] - 0s 229us/step - loss: 0.0157 - val_loss: 0.0366\n",
            "Epoch 20/20\n",
            "14/14 [==============================] - 0s 435us/step - loss: 0.0185 - val_loss: 0.0375\n"
          ],
          "name": "stdout"
        },
        {
          "output_type": "execute_result",
          "data": {
            "text/plain": [
              "<keras.callbacks.History at 0x7f721fc5d9b0>"
            ]
          },
          "metadata": {
            "tags": []
          },
          "execution_count": 70
        }
      ]
    },
    {
      "cell_type": "code",
      "metadata": {
        "colab_type": "code",
        "id": "78M6Bf10D2OM",
        "colab": {
          "base_uri": "https://localhost:8080/",
          "height": 265
        },
        "outputId": "38cd3525-59ef-4f85-c284-9a59e34e5ad9"
      },
      "source": [
        "check_predictions(model, X_train, y_train)"
      ],
      "execution_count": 71,
      "outputs": [
        {
          "output_type": "display_data",
          "data": {
            "image/png": "[encoded data removed]",
            "text/plain": [
              "<Figure size 432x288 with 1 Axes>"
            ]
          },
          "metadata": {
            "tags": []
          }
        }
      ]
    },
    {
      "cell_type": "code",
      "metadata": {
        "id": "JJUuKsuUOit-",
        "colab_type": "code",
        "colab": {
          "base_uri": "https://localhost:8080/",
          "height": 265
        },
        "outputId": "abeabf6a-fcbb-48d5-ca52-0e125db04a96"
      },
      "source": [
        "check_predictions(model, X_test, y_test)"
      ],
      "execution_count": 72,
      "outputs": [
        {
          "output_type": "display_data",
          "data": {
            "image/png": "[encoded data removed]",
            "text/plain": [
              "<Figure size 432x288 with 1 Axes>"
            ]
          },
          "metadata": {
            "tags": []
          }
        }
      ]
    },
    {
      "cell_type": "markdown",
      "metadata": {
        "id": "qDjrVRYI7bIK",
        "colab_type": "text"
      },
      "source": [
        "### 5.4 Adição de Camadas"
      ]
    },
    {
      "cell_type": "code",
      "metadata": {
        "colab_type": "code",
        "id": "MsT_754AD2OS",
        "colab": {
          "base_uri": "https://localhost:8080/",
          "height": 722
        },
        "outputId": "967516d1-58a3-49c1-9d6c-5994578de4f8"
      },
      "source": [
        "# 0. Import keras dependencies here\n",
        "from keras.models import Sequential\n",
        "from keras.layers import Dense\n",
        "from keras.optimizers import Adam\n",
        "\n",
        "# 1. Define your base model here\n",
        "model = Sequential([\n",
        "        Dense(units=100, input_shape=(1,), activation='relu'),\n",
        "        Dense(units=100, activation='relu'),\n",
        "        Dense(1)\n",
        "    ])\n",
        "\n",
        "# 2. Set your optimizer and loss function here\n",
        "# Default of adam is 0.001. Check large and small values, use a value slighly lower than a diverging lr\n",
        "model.compile(optimizer=Adam(lr=0.1),\n",
        "             loss='mean_squared_error')\n",
        "\n",
        "\n",
        "# 3. Train your model\n",
        "model.fit(X_train, y_train, validation_data=(X_test, y_test), epochs=20)"
      ],
      "execution_count": 77,
      "outputs": [
        {
          "output_type": "stream",
          "text": [
            "Train on 14 samples, validate on 6 samples\n",
            "Epoch 1/20\n",
            "14/14 [==============================] - 0s 35ms/step - loss: 1.0726 - val_loss: 4.3187\n",
            "Epoch 2/20\n",
            "14/14 [==============================] - 0s 745us/step - loss: 6.0229 - val_loss: 1.9706\n",
            "Epoch 3/20\n",
            "14/14 [==============================] - 0s 389us/step - loss: 2.6612 - val_loss: 1.0385\n",
            "Epoch 4/20\n",
            "14/14 [==============================] - 0s 290us/step - loss: 1.4631 - val_loss: 0.7495\n",
            "Epoch 5/20\n",
            "14/14 [==============================] - 0s 342us/step - loss: 1.0214 - val_loss: 0.8170\n",
            "Epoch 6/20\n",
            "14/14 [==============================] - 0s 364us/step - loss: 1.0235 - val_loss: 0.7905\n",
            "Epoch 7/20\n",
            "14/14 [==============================] - 0s 372us/step - loss: 0.9798 - val_loss: 0.5350\n",
            "Epoch 8/20\n",
            "14/14 [==============================] - 0s 351us/step - loss: 0.6729 - val_loss: 0.1554\n",
            "Epoch 9/20\n",
            "14/14 [==============================] - 0s 305us/step - loss: 0.1465 - val_loss: 0.7468\n",
            "Epoch 10/20\n",
            "14/14 [==============================] - 0s 339us/step - loss: 0.9989 - val_loss: 0.1828\n",
            "Epoch 11/20\n",
            "14/14 [==============================] - 0s 240us/step - loss: 0.1759 - val_loss: 0.1085\n",
            "Epoch 12/20\n",
            "14/14 [==============================] - 0s 280us/step - loss: 0.1501 - val_loss: 0.2699\n",
            "Epoch 13/20\n",
            "14/14 [==============================] - 0s 290us/step - loss: 0.3616 - val_loss: 0.2397\n",
            "Epoch 14/20\n",
            "14/14 [==============================] - 0s 232us/step - loss: 0.2464 - val_loss: 0.0995\n",
            "Epoch 15/20\n",
            "14/14 [==============================] - 0s 377us/step - loss: 0.0739 - val_loss: 0.0249\n",
            "Epoch 16/20\n",
            "14/14 [==============================] - 0s 392us/step - loss: 0.0238 - val_loss: 0.1241\n",
            "Epoch 17/20\n",
            "14/14 [==============================] - 0s 377us/step - loss: 0.1339 - val_loss: 0.1030\n",
            "Epoch 18/20\n",
            "14/14 [==============================] - 0s 371us/step - loss: 0.1098 - val_loss: 0.0214\n",
            "Epoch 19/20\n",
            "14/14 [==============================] - 0s 335us/step - loss: 0.0219 - val_loss: 0.0306\n",
            "Epoch 20/20\n",
            "14/14 [==============================] - 0s 349us/step - loss: 0.0339 - val_loss: 0.0537\n"
          ],
          "name": "stdout"
        },
        {
          "output_type": "execute_result",
          "data": {
            "text/plain": [
              "<keras.callbacks.History at 0x7f728010bcc0>"
            ]
          },
          "metadata": {
            "tags": []
          },
          "execution_count": 77
        }
      ]
    },
    {
      "cell_type": "code",
      "metadata": {
        "id": "X3mgZmztSXAc",
        "colab_type": "code",
        "colab": {}
      },
      "source": [
        ""
      ],
      "execution_count": 0,
      "outputs": []
    },
    {
      "cell_type": "code",
      "metadata": {
        "id": "i5gpWxQsPZTS",
        "colab_type": "code",
        "colab": {
          "base_uri": "https://localhost:8080/",
          "height": 265
        },
        "outputId": "2b492a3a-dc40-4735-af0a-a701ff3ef3b0"
      },
      "source": [
        "def check_predictions(model, X, y):\n",
        "    y_pred = model.predict(X)\n",
        "    plt.scatter(X, y, c='b', alpha=0.5, label=\"Data\")\n",
        "    plt.scatter(X, y_pred, c='r', label=\"Model\")\n",
        "    plt.legend(loc=0)\n",
        "    plt.show()\n",
        "    \n",
        "\n",
        "check_predictions(model, X_train, y_train)"
      ],
      "execution_count": 78,
      "outputs": [
        {
          "output_type": "display_data",
          "data": {
            "image/png": "[encoded data removed]",
            "text/plain": [
              "<Figure size 432x288 with 1 Axes>"
            ]
          },
          "metadata": {
            "tags": []
          }
        }
      ]
    },
    {
      "cell_type": "code",
      "metadata": {
        "id": "VxjGLIBsPdIf",
        "colab_type": "code",
        "colab": {
          "base_uri": "https://localhost:8080/",
          "height": 265
        },
        "outputId": "ba0fbc21-9153-47b0-f3ee-06bd8ec1e395"
      },
      "source": [
        "check_predictions(model, X_test, y_test)"
      ],
      "execution_count": 79,
      "outputs": [
        {
          "output_type": "display_data",
          "data": {
            "image/png": "[encoded data removed]",
            "text/plain": [
              "<Figure size 432x288 with 1 Axes>"
            ]
          },
          "metadata": {
            "tags": []
          }
        }
      ]
    },
    {
      "cell_type": "code",
      "metadata": {
        "id": "qOJB4ZN-PsRm",
        "colab_type": "code",
        "colab": {}
      },
      "source": [
        ""
      ],
      "execution_count": 0,
      "outputs": []
    }
  ]
}